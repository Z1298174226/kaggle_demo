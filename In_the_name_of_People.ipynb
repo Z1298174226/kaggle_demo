{
 "cells": [
  {
   "cell_type": "code",
   "execution_count": 1,
   "metadata": {},
   "outputs": [],
   "source": [
    "import jieba\n",
    "import jieba.analyse"
   ]
  },
  {
   "cell_type": "code",
   "execution_count": 2,
   "metadata": {},
   "outputs": [
    {
     "name": "stderr",
     "output_type": "stream",
     "text": [
      "Building prefix dict from the default dictionary ...\n",
      "Loading model from cache /tmp/jieba.cache\n",
      "Loading model cost 0.238 seconds.\n",
      "Prefix dict has been built succesfully.\n"
     ]
    },
    {
     "data": {
      "text/plain": [
       "1"
      ]
     },
     "execution_count": 2,
     "metadata": {},
     "output_type": "execute_result"
    }
   ],
   "source": [
    "jieba.suggest_freq('沙瑞金', True)\n",
    "jieba.suggest_freq('田国富', True)\n",
    "jieba.suggest_freq('高育良', True)\n",
    "jieba.suggest_freq('侯亮平', True)\n",
    "jieba.suggest_freq('钟小艾', True)\n",
    "jieba.suggest_freq('陈岩石', True)\n",
    "jieba.suggest_freq('欧阳菁', True)\n",
    "jieba.suggest_freq('易学习', True)\n",
    "jieba.suggest_freq('王大路', True)\n",
    "jieba.suggest_freq('蔡成功', True)\n",
    "jieba.suggest_freq('孙连城', True)\n",
    "jieba.suggest_freq('季昌明', True)\n",
    "jieba.suggest_freq('丁义珍', True)\n",
    "jieba.suggest_freq('郑西坡', True)\n",
    "jieba.suggest_freq('赵东来', True)\n",
    "jieba.suggest_freq('高小琴', True)\n",
    "jieba.suggest_freq('赵瑞龙', True)\n",
    "jieba.suggest_freq('林华华', True)\n",
    "jieba.suggest_freq('陆亦可', True)\n",
    "jieba.suggest_freq('刘新建', True)\n",
    "jieba.suggest_freq('刘庆祝', True)"
   ]
  },
  {
   "cell_type": "code",
   "execution_count": 3,
   "metadata": {},
   "outputs": [],
   "source": [
    "with open('deep/data/in_the_name_of_people.txt') as f:\n",
    "    document = f.read()\n",
    "    \n",
    "    #document_decode = document.decode('GBK')\n",
    "    \n",
    "    document_cut = jieba.cut(document)\n",
    "    #print  ' '.join(jieba_cut)  //如果打印结果，则分词效果消失，后面的result无法显示\n",
    "    result = ' '.join(document_cut)\n",
    "    result = result.encode('utf-8')\n",
    "    with open('deep/data/in_the_name_of_people_segment.txt', 'w') as f2:\n",
    "        f2.write(result)\n",
    "f.close()\n",
    "f2.close()"
   ]
  },
  {
   "cell_type": "code",
   "execution_count": 4,
   "metadata": {},
   "outputs": [],
   "source": [
    "import logging\n",
    "import os\n",
    "from gensim.models import word2vec"
   ]
  },
  {
   "cell_type": "code",
   "execution_count": 5,
   "metadata": {},
   "outputs": [
    {
     "name": "stderr",
     "output_type": "stream",
     "text": [
      "2018-05-28 00:17:32,127 : INFO : collecting all words and their counts\n",
      "2018-05-28 00:17:32,128 : INFO : PROGRESS: at sentence #0, processed 0 words, keeping 0 word types\n",
      "2018-05-28 00:17:32,176 : INFO : collected 17878 word types from a corpus of 161343 raw words and 2311 sentences\n",
      "2018-05-28 00:17:32,177 : INFO : Loading a fresh vocabulary\n",
      "2018-05-28 00:17:32,188 : INFO : min_count=5 retains 3337 unique words (18% of original 17878, drops 14541)\n",
      "2018-05-28 00:17:32,189 : INFO : min_count=5 leaves 138743 word corpus (85% of original 161343, drops 22600)\n",
      "2018-05-28 00:17:32,202 : INFO : deleting the raw counts dictionary of 17878 items\n",
      "2018-05-28 00:17:32,204 : INFO : sample=0.001 downsamples 44 most-common words\n",
      "2018-05-28 00:17:32,205 : INFO : downsampling leaves estimated 95729 word corpus (69.0% of prior 138743)\n",
      "2018-05-28 00:17:32,210 : INFO : constructing a huffman tree from 3337 words\n",
      "2018-05-28 00:17:32,301 : INFO : built huffman tree with maximum node depth 15\n",
      "2018-05-28 00:17:32,306 : INFO : estimated required memory for 3337 words and 100 dimensions: 6340300 bytes\n",
      "2018-05-28 00:17:32,307 : INFO : resetting layer weights\n",
      "2018-05-28 00:17:32,355 : INFO : training model with 3 workers on 3337 vocabulary and 100 features, using sg=1 hs=1 sample=0.001 negative=5 window=10\n",
      "2018-05-28 00:17:33,012 : INFO : worker thread finished; awaiting finish of 2 more threads\n",
      "2018-05-28 00:17:33,046 : INFO : worker thread finished; awaiting finish of 1 more threads\n",
      "2018-05-28 00:17:33,145 : INFO : worker thread finished; awaiting finish of 0 more threads\n",
      "2018-05-28 00:17:33,146 : INFO : EPOCH - 1 : training on 161343 raw words (95704 effective words) took 0.8s, 121480 effective words/s\n",
      "2018-05-28 00:17:33,782 : INFO : worker thread finished; awaiting finish of 2 more threads\n",
      "2018-05-28 00:17:33,808 : INFO : worker thread finished; awaiting finish of 1 more threads\n",
      "2018-05-28 00:17:33,881 : INFO : worker thread finished; awaiting finish of 0 more threads\n",
      "2018-05-28 00:17:33,883 : INFO : EPOCH - 2 : training on 161343 raw words (95761 effective words) took 0.7s, 130746 effective words/s\n",
      "2018-05-28 00:17:34,497 : INFO : worker thread finished; awaiting finish of 2 more threads\n",
      "2018-05-28 00:17:34,522 : INFO : worker thread finished; awaiting finish of 1 more threads\n",
      "2018-05-28 00:17:34,597 : INFO : worker thread finished; awaiting finish of 0 more threads\n",
      "2018-05-28 00:17:34,598 : INFO : EPOCH - 3 : training on 161343 raw words (95651 effective words) took 0.7s, 134108 effective words/s\n",
      "2018-05-28 00:17:35,227 : INFO : worker thread finished; awaiting finish of 2 more threads\n",
      "2018-05-28 00:17:35,253 : INFO : worker thread finished; awaiting finish of 1 more threads\n",
      "2018-05-28 00:17:35,310 : INFO : worker thread finished; awaiting finish of 0 more threads\n",
      "2018-05-28 00:17:35,312 : INFO : EPOCH - 4 : training on 161343 raw words (95576 effective words) took 0.7s, 134469 effective words/s\n",
      "2018-05-28 00:17:36,029 : INFO : worker thread finished; awaiting finish of 2 more threads\n",
      "2018-05-28 00:17:36,036 : INFO : worker thread finished; awaiting finish of 1 more threads\n",
      "2018-05-28 00:17:36,110 : INFO : worker thread finished; awaiting finish of 0 more threads\n",
      "2018-05-28 00:17:36,112 : INFO : EPOCH - 5 : training on 161343 raw words (95725 effective words) took 0.8s, 120175 effective words/s\n",
      "2018-05-28 00:17:36,113 : INFO : training on a 806715 raw words (478417 effective words) took 3.8s, 127343 effective words/s\n"
     ]
    }
   ],
   "source": [
    "logging.basicConfig(format='%(asctime)s : %(levelname)s : %(message)s', level=logging.INFO)\n",
    "\n",
    "sentences = word2vec.LineSentence('deep/data/in_the_name_of_people_segment.txt') \n",
    "\n",
    "model = word2vec.Word2Vec(sentences, sg = 1, hs=1,min_count = 5,window = 10,size=100)  "
   ]
  },
  {
   "cell_type": "code",
   "execution_count": 17,
   "metadata": {},
   "outputs": [
    {
     "name": "stdout",
     "output_type": "stream",
     "text": [
      "季昌明 0.738006949425\n",
      "忍不住 0.720304727554\n",
      "肖钢玉 0.692957639694\n",
      "陆亦可 0.676112055779\n",
      "录音笔 0.665318310261\n"
     ]
    }
   ],
   "source": [
    "req_count = 5\n",
    "for key in model.wv.similar_by_word('侯亮平'.decode('utf-8'), topn =100):\n",
    "    if len(key[0])==3:\n",
    "        req_count -= 1\n",
    "        print key[0], key[1]\n",
    "        if req_count == 0:\n",
    "            break;"
   ]
  },
  {
   "cell_type": "code",
   "execution_count": 16,
   "metadata": {},
   "outputs": [
    {
     "name": "stdout",
     "output_type": "stream",
     "text": [
      "0.7064242751352662\n",
      "0.6250878784261191\n"
     ]
    }
   ],
   "source": [
    "print model.wv.similarity('祁同伟'.decode('utf-8'), '高育良'.decode('utf-8'))\n",
    "print model.wv.similarity('侯亮平'.decode('utf-8'), '祁同伟'.decode('utf-8'))"
   ]
  },
  {
   "cell_type": "code",
   "execution_count": 18,
   "metadata": {},
   "outputs": [
    {
     "name": "stdout",
     "output_type": "stream",
     "text": [
      "0.6129950528098411\n",
      "0.5361295441053358\n"
     ]
    }
   ],
   "source": [
    "print model.wv.similarity('沙瑞金'.decode('utf-8'), '高育良'.decode('utf-8'))\n",
    "print model.wv.similarity('陆亦可'.decode('utf-8'), '高小琴'.decode('utf-8'))"
   ]
  },
  {
   "cell_type": "code",
   "execution_count": 9,
   "metadata": {},
   "outputs": [
    {
     "name": "stdout",
     "output_type": "stream",
     "text": [
      "祁同伟\n"
     ]
    }
   ],
   "source": [
    "print model.wv.doesnt_match(u\"侯亮平 祁同伟 李达康 季昌明 沙瑞金\".split())"
   ]
  },
  {
   "cell_type": "code",
   "execution_count": 10,
   "metadata": {},
   "outputs": [
    {
     "name": "stdout",
     "output_type": "stream",
     "text": [
      "<gensim.models.keyedvectors.Word2VecKeyedVectors object at 0x7f7aed832890>\n"
     ]
    }
   ],
   "source": [
    "print model.wv"
   ]
  },
  {
   "cell_type": "code",
   "execution_count": null,
   "metadata": {},
   "outputs": [],
   "source": []
  }
 ],
 "metadata": {
  "kernelspec": {
   "display_name": "Python 2",
   "language": "python",
   "name": "python2"
  },
  "language_info": {
   "codemirror_mode": {
    "name": "ipython",
    "version": 2
   },
   "file_extension": ".py",
   "mimetype": "text/x-python",
   "name": "python",
   "nbconvert_exporter": "python",
   "pygments_lexer": "ipython2",
   "version": "2.7.12"
  }
 },
 "nbformat": 4,
 "nbformat_minor": 2
}
