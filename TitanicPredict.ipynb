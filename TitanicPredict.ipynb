{
 "cells": [
  {
   "cell_type": "code",
   "execution_count": 1,
   "metadata": {},
   "outputs": [
    {
     "name": "stderr",
     "output_type": "stream",
     "text": [
      "/usr/local/lib/python2.7/dist-packages/h5py/__init__.py:36: FutureWarning: Conversion of the second argument of issubdtype from `float` to `np.floating` is deprecated. In future, it will be treated as `np.float64 == np.dtype(float).type`.\n",
      "  from ._conv import register_converters as _register_converters\n",
      "Using TensorFlow backend.\n"
     ]
    }
   ],
   "source": [
    "import os\n",
    "os.environ['TF_CPP_MIN_LOG_LEVEL'] = '2'\n",
    "import pandas as pd\n",
    "import numpy as np\n",
    "import matplotlib.pyplot as plt\n",
    "import seaborn as sns\n",
    "\n",
    "from keras.models import Sequential \n",
    "from keras.layers import Dense, Dropout, Activation,BatchNormalization \n",
    "from keras.utils import np_utils\n",
    "\n",
    "from sklearn import preprocessing \n",
    "\n",
    "import warnings\n",
    "warnings.filterwarnings('ignore')\n"
   ]
  },
  {
   "cell_type": "code",
   "execution_count": 2,
   "metadata": {},
   "outputs": [],
   "source": [
    "train=pd.read_csv('/root/Downloads/Titannic/train.csv')\n",
    "test=pd.read_csv('/root/Downloads/Titannic/test.csv')"
   ]
  },
  {
   "cell_type": "code",
   "execution_count": 3,
   "metadata": {},
   "outputs": [
    {
     "data": {
      "text/html": [
       "<div>\n",
       "<style scoped>\n",
       "    .dataframe tbody tr th:only-of-type {\n",
       "        vertical-align: middle;\n",
       "    }\n",
       "\n",
       "    .dataframe tbody tr th {\n",
       "        vertical-align: top;\n",
       "    }\n",
       "\n",
       "    .dataframe thead th {\n",
       "        text-align: right;\n",
       "    }\n",
       "</style>\n",
       "<table border=\"1\" class=\"dataframe\">\n",
       "  <thead>\n",
       "    <tr style=\"text-align: right;\">\n",
       "      <th></th>\n",
       "      <th>PassengerId</th>\n",
       "      <th>Survived</th>\n",
       "      <th>Pclass</th>\n",
       "      <th>Name</th>\n",
       "      <th>Sex</th>\n",
       "      <th>Age</th>\n",
       "      <th>SibSp</th>\n",
       "      <th>Parch</th>\n",
       "      <th>Ticket</th>\n",
       "      <th>Fare</th>\n",
       "      <th>Cabin</th>\n",
       "      <th>Embarked</th>\n",
       "    </tr>\n",
       "  </thead>\n",
       "  <tbody>\n",
       "    <tr>\n",
       "      <th>0</th>\n",
       "      <td>1</td>\n",
       "      <td>0</td>\n",
       "      <td>3</td>\n",
       "      <td>Braund, Mr. Owen Harris</td>\n",
       "      <td>male</td>\n",
       "      <td>22.0</td>\n",
       "      <td>1</td>\n",
       "      <td>0</td>\n",
       "      <td>A/5 21171</td>\n",
       "      <td>7.2500</td>\n",
       "      <td>NaN</td>\n",
       "      <td>S</td>\n",
       "    </tr>\n",
       "    <tr>\n",
       "      <th>1</th>\n",
       "      <td>2</td>\n",
       "      <td>1</td>\n",
       "      <td>1</td>\n",
       "      <td>Cumings, Mrs. John Bradley (Florence Briggs Th...</td>\n",
       "      <td>female</td>\n",
       "      <td>38.0</td>\n",
       "      <td>1</td>\n",
       "      <td>0</td>\n",
       "      <td>PC 17599</td>\n",
       "      <td>71.2833</td>\n",
       "      <td>C85</td>\n",
       "      <td>C</td>\n",
       "    </tr>\n",
       "    <tr>\n",
       "      <th>2</th>\n",
       "      <td>3</td>\n",
       "      <td>1</td>\n",
       "      <td>3</td>\n",
       "      <td>Heikkinen, Miss. Laina</td>\n",
       "      <td>female</td>\n",
       "      <td>26.0</td>\n",
       "      <td>0</td>\n",
       "      <td>0</td>\n",
       "      <td>STON/O2. 3101282</td>\n",
       "      <td>7.9250</td>\n",
       "      <td>NaN</td>\n",
       "      <td>S</td>\n",
       "    </tr>\n",
       "    <tr>\n",
       "      <th>3</th>\n",
       "      <td>4</td>\n",
       "      <td>1</td>\n",
       "      <td>1</td>\n",
       "      <td>Futrelle, Mrs. Jacques Heath (Lily May Peel)</td>\n",
       "      <td>female</td>\n",
       "      <td>35.0</td>\n",
       "      <td>1</td>\n",
       "      <td>0</td>\n",
       "      <td>113803</td>\n",
       "      <td>53.1000</td>\n",
       "      <td>C123</td>\n",
       "      <td>S</td>\n",
       "    </tr>\n",
       "    <tr>\n",
       "      <th>4</th>\n",
       "      <td>5</td>\n",
       "      <td>0</td>\n",
       "      <td>3</td>\n",
       "      <td>Allen, Mr. William Henry</td>\n",
       "      <td>male</td>\n",
       "      <td>35.0</td>\n",
       "      <td>0</td>\n",
       "      <td>0</td>\n",
       "      <td>373450</td>\n",
       "      <td>8.0500</td>\n",
       "      <td>NaN</td>\n",
       "      <td>S</td>\n",
       "    </tr>\n",
       "  </tbody>\n",
       "</table>\n",
       "</div>"
      ],
      "text/plain": [
       "   PassengerId  Survived  Pclass  \\\n",
       "0            1         0       3   \n",
       "1            2         1       1   \n",
       "2            3         1       3   \n",
       "3            4         1       1   \n",
       "4            5         0       3   \n",
       "\n",
       "                                                Name     Sex   Age  SibSp  \\\n",
       "0                            Braund, Mr. Owen Harris    male  22.0      1   \n",
       "1  Cumings, Mrs. John Bradley (Florence Briggs Th...  female  38.0      1   \n",
       "2                             Heikkinen, Miss. Laina  female  26.0      0   \n",
       "3       Futrelle, Mrs. Jacques Heath (Lily May Peel)  female  35.0      1   \n",
       "4                           Allen, Mr. William Henry    male  35.0      0   \n",
       "\n",
       "   Parch            Ticket     Fare Cabin Embarked  \n",
       "0      0         A/5 21171   7.2500   NaN        S  \n",
       "1      0          PC 17599  71.2833   C85        C  \n",
       "2      0  STON/O2. 3101282   7.9250   NaN        S  \n",
       "3      0            113803  53.1000  C123        S  \n",
       "4      0            373450   8.0500   NaN        S  "
      ]
     },
     "execution_count": 3,
     "metadata": {},
     "output_type": "execute_result"
    }
   ],
   "source": [
    "train.head()"
   ]
  },
  {
   "cell_type": "code",
   "execution_count": 4,
   "metadata": {},
   "outputs": [],
   "source": [
    "ID = 'PassengerId' \n",
    "TARGET = 'Survived' \n",
    "NAME = 'Name'\n",
    "TICKET = 'Ticket'\n",
    "CABIN = 'Cabin'\n",
    "FEATURES = train.columns.drop([ID, TARGET, NAME]) "
   ]
  },
  {
   "cell_type": "code",
   "execution_count": 5,
   "metadata": {},
   "outputs": [
    {
     "name": "stdout",
     "output_type": "stream",
     "text": [
      "Index([u'Pclass', u'Sex', u'Age', u'SibSp', u'Parch', u'Ticket', u'Fare',\n",
      "       u'Cabin', u'Embarked'],\n",
      "      dtype='object')\n"
     ]
    }
   ],
   "source": [
    "print FEATURES"
   ]
  },
  {
   "cell_type": "code",
   "execution_count": 6,
   "metadata": {},
   "outputs": [],
   "source": [
    "train_y = train[TARGET].values"
   ]
  },
  {
   "cell_type": "code",
   "execution_count": 7,
   "metadata": {},
   "outputs": [],
   "source": [
    "train = train.drop('Survived',axis = 1)\n",
    "train = train.drop('Name', axis = 1)\n",
    "test = test.drop('Name', axis = 1)"
   ]
  },
  {
   "cell_type": "code",
   "execution_count": 8,
   "metadata": {},
   "outputs": [],
   "source": [
    "all_data = pd.concat([train, test], axis = 0)"
   ]
  },
  {
   "cell_type": "code",
   "execution_count": 9,
   "metadata": {},
   "outputs": [],
   "source": [
    "f_cat = all_data[FEATURES].select_dtypes(include=['object']).columns\n",
    "f_num = all_data[FEATURES].select_dtypes(exclude=['object']).columns"
   ]
  },
  {
   "cell_type": "code",
   "execution_count": 10,
   "metadata": {},
   "outputs": [],
   "source": [
    "all_data[f_num] = all_data[f_num].fillna(all_data[f_num].mean())\n",
    "all_data[f_cat] = all_data[f_cat].fillna('?')"
   ]
  },
  {
   "cell_type": "code",
   "execution_count": 11,
   "metadata": {},
   "outputs": [],
   "source": [
    "dummy_cat = pd.get_dummies(all_data[f_cat])"
   ]
  },
  {
   "cell_type": "code",
   "execution_count": 12,
   "metadata": {},
   "outputs": [],
   "source": [
    "all_data = pd.DataFrame(preprocessing.scale(all_data[f_num]), columns=f_num)"
   ]
  },
  {
   "cell_type": "code",
   "execution_count": 13,
   "metadata": {},
   "outputs": [],
   "source": [
    "dummy_cat.index = all_data.index\n",
    "all_data = pd.concat([all_data, dummy_cat], axis=1, ignore_index=True)"
   ]
  },
  {
   "cell_type": "code",
   "execution_count": 14,
   "metadata": {},
   "outputs": [
    {
     "name": "stdout",
     "output_type": "stream",
     "text": [
      "891\n",
      "891\n"
     ]
    }
   ],
   "source": [
    "X = all_data.values\n",
    "x_train = X[:891, 0:]\n",
    "y_train = np_utils.to_categorical(train_y,2)\n",
    "print len(x_train)\n",
    "print len(y_train)"
   ]
  },
  {
   "cell_type": "code",
   "execution_count": 15,
   "metadata": {},
   "outputs": [],
   "source": [
    "def create_nn_model(input_dim, activation, layers, optimizer):\n",
    "    model = Sequential()\n",
    "    l_num = 0\n",
    "    for l in layers:\n",
    "        if l_num == 0:\n",
    "            model.add(Dense(l, input_dim = input_dim, activation = activation, init = 'he_normal'))\n",
    "        else: \n",
    "            model.add(Dense(l, activation = activation, init = 'he_normal')) \n",
    "        l_num = l_num + 1 \n",
    "    model.add(BatchNormalization(epsilon=1e-6,axis=1))\n",
    "    model.add(Dropout(0.25))\n",
    "    model.add(Dense(10))\n",
    "    model.add(Activation('relu'))\n",
    "    model.add(Dense(2))\n",
    "    model.add(Activation('softmax'))\n",
    "    model.compile(optimizer = optimizer, loss = 'categorical_crossentropy', metrics = ['accuracy']) \n",
    "    return model"
   ]
  },
  {
   "cell_type": "code",
   "execution_count": 16,
   "metadata": {},
   "outputs": [
    {
     "name": "stdout",
     "output_type": "stream",
     "text": [
      "Train on 801 samples, validate on 90 samples\n",
      "Epoch 1/50\n",
      "801/801 [==============================] - 1s 1ms/step - loss: 0.9081 - acc: 0.6617 - val_loss: 0.5680 - val_acc: 0.8111\n",
      "Epoch 2/50\n",
      "801/801 [==============================] - 1s 944us/step - loss: 0.4222 - acc: 0.8352 - val_loss: 0.4572 - val_acc: 0.8556\n",
      "Epoch 3/50\n",
      "801/801 [==============================] - 1s 958us/step - loss: 0.3330 - acc: 0.8839 - val_loss: 0.4297 - val_acc: 0.8556\n",
      "Epoch 4/50\n",
      "801/801 [==============================] - 1s 954us/step - loss: 0.2487 - acc: 0.9051 - val_loss: 0.3772 - val_acc: 0.8333\n",
      "Epoch 5/50\n",
      "801/801 [==============================] - 1s 1ms/step - loss: 0.1590 - acc: 0.9463 - val_loss: 0.4219 - val_acc: 0.8444\n",
      "Epoch 6/50\n",
      "801/801 [==============================] - 1s 947us/step - loss: 0.1253 - acc: 0.9625 - val_loss: 0.5518 - val_acc: 0.8222\n",
      "Epoch 7/50\n",
      "801/801 [==============================] - 1s 1ms/step - loss: 0.0968 - acc: 0.9788 - val_loss: 0.4155 - val_acc: 0.8667\n",
      "Epoch 8/50\n",
      "801/801 [==============================] - 1s 1ms/step - loss: 0.0686 - acc: 0.9863 - val_loss: 0.4167 - val_acc: 0.8556\n",
      "Epoch 9/50\n",
      "801/801 [==============================] - 1s 980us/step - loss: 0.0578 - acc: 0.9888 - val_loss: 0.4740 - val_acc: 0.8556\n",
      "Epoch 10/50\n",
      "801/801 [==============================] - 1s 1ms/step - loss: 0.0481 - acc: 0.9900 - val_loss: 0.5083 - val_acc: 0.8556\n",
      "Epoch 11/50\n",
      "801/801 [==============================] - 1s 1ms/step - loss: 0.0491 - acc: 0.9863 - val_loss: 0.4918 - val_acc: 0.8556\n",
      "Epoch 12/50\n",
      "801/801 [==============================] - 1s 1ms/step - loss: 0.0410 - acc: 0.9888 - val_loss: 0.4808 - val_acc: 0.8667\n",
      "Epoch 13/50\n",
      "801/801 [==============================] - 1s 999us/step - loss: 0.0440 - acc: 0.9875 - val_loss: 0.4625 - val_acc: 0.8556\n",
      "Epoch 14/50\n",
      "801/801 [==============================] - 1s 970us/step - loss: 0.0335 - acc: 0.9888 - val_loss: 0.4330 - val_acc: 0.8556\n",
      "Epoch 15/50\n",
      "801/801 [==============================] - 1s 999us/step - loss: 0.0400 - acc: 0.9875 - val_loss: 0.4733 - val_acc: 0.8556\n",
      "Epoch 16/50\n",
      "801/801 [==============================] - 1s 992us/step - loss: 0.0402 - acc: 0.9888 - val_loss: 0.5457 - val_acc: 0.8556\n",
      "Epoch 17/50\n",
      "801/801 [==============================] - 1s 940us/step - loss: 0.0335 - acc: 0.9875 - val_loss: 0.5868 - val_acc: 0.8667\n",
      "Epoch 18/50\n",
      "801/801 [==============================] - 1s 1ms/step - loss: 0.0292 - acc: 0.9913 - val_loss: 0.5549 - val_acc: 0.8556\n",
      "Epoch 19/50\n",
      "801/801 [==============================] - 1s 969us/step - loss: 0.0313 - acc: 0.9913 - val_loss: 0.6363 - val_acc: 0.8667\n",
      "Epoch 20/50\n",
      "801/801 [==============================] - 1s 972us/step - loss: 0.0316 - acc: 0.9913 - val_loss: 0.5535 - val_acc: 0.8556\n",
      "Epoch 21/50\n",
      "801/801 [==============================] - 1s 943us/step - loss: 0.0270 - acc: 0.9950 - val_loss: 0.5537 - val_acc: 0.8556\n",
      "Epoch 22/50\n",
      "801/801 [==============================] - 1s 1ms/step - loss: 0.0259 - acc: 0.9925 - val_loss: 0.5120 - val_acc: 0.8444\n",
      "Epoch 23/50\n",
      "801/801 [==============================] - 1s 972us/step - loss: 0.0289 - acc: 0.9900 - val_loss: 0.5275 - val_acc: 0.8556\n",
      "Epoch 24/50\n",
      "801/801 [==============================] - 1s 986us/step - loss: 0.0295 - acc: 0.9913 - val_loss: 0.6487 - val_acc: 0.8556\n",
      "Epoch 25/50\n",
      "801/801 [==============================] - 1s 986us/step - loss: 0.0232 - acc: 0.9900 - val_loss: 0.6038 - val_acc: 0.8556\n",
      "Epoch 26/50\n",
      "801/801 [==============================] - 1s 973us/step - loss: 0.0257 - acc: 0.9913 - val_loss: 0.5796 - val_acc: 0.8667\n",
      "Epoch 27/50\n",
      "801/801 [==============================] - 1s 957us/step - loss: 0.0256 - acc: 0.9913 - val_loss: 0.5663 - val_acc: 0.8667\n",
      "Epoch 28/50\n",
      "801/801 [==============================] - 1s 1ms/step - loss: 0.0209 - acc: 0.9925 - val_loss: 0.5787 - val_acc: 0.8667\n",
      "Epoch 29/50\n",
      "801/801 [==============================] - 1s 993us/step - loss: 0.0237 - acc: 0.9913 - val_loss: 0.5989 - val_acc: 0.8556\n",
      "Epoch 30/50\n",
      "801/801 [==============================] - 1s 1ms/step - loss: 0.0278 - acc: 0.9888 - val_loss: 0.6685 - val_acc: 0.8556\n",
      "Epoch 31/50\n",
      "801/801 [==============================] - 1s 1ms/step - loss: 0.0221 - acc: 0.9925 - val_loss: 0.6801 - val_acc: 0.8444\n",
      "Epoch 32/50\n",
      "801/801 [==============================] - 1s 980us/step - loss: 0.0195 - acc: 0.9963 - val_loss: 0.6416 - val_acc: 0.8444\n",
      "Epoch 33/50\n",
      "801/801 [==============================] - 1s 1ms/step - loss: 0.0227 - acc: 0.9900 - val_loss: 0.6583 - val_acc: 0.8556\n",
      "Epoch 34/50\n",
      "801/801 [==============================] - 1s 1ms/step - loss: 0.0251 - acc: 0.9888 - val_loss: 0.6650 - val_acc: 0.8556\n",
      "Epoch 35/50\n",
      "801/801 [==============================] - 1s 1ms/step - loss: 0.0188 - acc: 0.9925 - val_loss: 0.6553 - val_acc: 0.8556\n",
      "Epoch 36/50\n",
      "801/801 [==============================] - 1s 1ms/step - loss: 0.0197 - acc: 0.9900 - val_loss: 0.6626 - val_acc: 0.8667\n",
      "Epoch 37/50\n",
      "801/801 [==============================] - 1s 1ms/step - loss: 0.0211 - acc: 0.9900 - val_loss: 0.6029 - val_acc: 0.8667\n",
      "Epoch 38/50\n",
      "801/801 [==============================] - 1s 1ms/step - loss: 0.0173 - acc: 0.9950 - val_loss: 0.6399 - val_acc: 0.8667\n",
      "Epoch 39/50\n",
      "801/801 [==============================] - 1s 982us/step - loss: 0.0189 - acc: 0.9900 - val_loss: 0.5954 - val_acc: 0.8667\n",
      "Epoch 40/50\n",
      "801/801 [==============================] - 1s 1ms/step - loss: 0.0185 - acc: 0.9925 - val_loss: 0.6267 - val_acc: 0.8667\n",
      "Epoch 41/50\n",
      "801/801 [==============================] - 1s 1ms/step - loss: 0.0180 - acc: 0.9925 - val_loss: 0.6805 - val_acc: 0.8556\n",
      "Epoch 42/50\n",
      "801/801 [==============================] - 1s 949us/step - loss: 0.0181 - acc: 0.9925 - val_loss: 0.6703 - val_acc: 0.8667\n",
      "Epoch 43/50\n",
      "801/801 [==============================] - 1s 1ms/step - loss: 0.0180 - acc: 0.9900 - val_loss: 0.7162 - val_acc: 0.8667\n",
      "Epoch 44/50\n",
      "801/801 [==============================] - 1s 979us/step - loss: 0.0143 - acc: 0.9938 - val_loss: 0.7081 - val_acc: 0.8667\n",
      "Epoch 45/50\n",
      "801/801 [==============================] - 1s 1ms/step - loss: 0.0133 - acc: 0.9950 - val_loss: 0.7135 - val_acc: 0.8556\n",
      "Epoch 46/50\n",
      "801/801 [==============================] - 1s 1ms/step - loss: 0.0212 - acc: 0.9900 - val_loss: 0.7033 - val_acc: 0.8667\n",
      "Epoch 47/50\n",
      "801/801 [==============================] - 1s 1ms/step - loss: 0.0177 - acc: 0.9913 - val_loss: 0.6628 - val_acc: 0.8667\n",
      "Epoch 48/50\n",
      "801/801 [==============================] - 1s 919us/step - loss: 0.0165 - acc: 0.9900 - val_loss: 0.6420 - val_acc: 0.8667\n",
      "Epoch 49/50\n",
      "801/801 [==============================] - 1s 936us/step - loss: 0.0193 - acc: 0.9900 - val_loss: 0.6367 - val_acc: 0.8667\n",
      "Epoch 50/50\n",
      "801/801 [==============================] - 1s 949us/step - loss: 0.0132 - acc: 0.9925 - val_loss: 0.6263 - val_acc: 0.8667\n",
      "_________________________________________________________________\n",
      "Layer (type)                 Output Shape              Param #   \n",
      "=================================================================\n",
      "dense_1 (Dense)              (None, 1500)              1692000   \n",
      "_________________________________________________________________\n",
      "dense_2 (Dense)              (None, 500)               750500    \n",
      "_________________________________________________________________\n",
      "dense_3 (Dense)              (None, 50)                25050     \n",
      "_________________________________________________________________\n",
      "batch_normalization_1 (Batch (None, 50)                200       \n",
      "_________________________________________________________________\n",
      "dropout_1 (Dropout)          (None, 50)                0         \n",
      "_________________________________________________________________\n",
      "dense_4 (Dense)              (None, 10)                510       \n",
      "_________________________________________________________________\n",
      "activation_1 (Activation)    (None, 10)                0         \n",
      "_________________________________________________________________\n",
      "dense_5 (Dense)              (None, 2)                 22        \n",
      "_________________________________________________________________\n",
      "activation_2 (Activation)    (None, 2)                 0         \n",
      "=================================================================\n",
      "Total params: 2,468,282\n",
      "Trainable params: 2,468,182\n",
      "Non-trainable params: 100\n",
      "_________________________________________________________________\n"
     ]
    }
   ],
   "source": [
    "model = create_nn_model(input_dim = X.shape[1], activation = 'selu', layers = [1500, 500,  50], optimizer = 'adagrad') \n",
    "fit = model.fit(x_train, y_train, batch_size=50, nb_epoch=50, validation_split=0.1, verbose = 1) \n",
    "model.summary()"
   ]
  },
  {
   "cell_type": "code",
   "execution_count": 17,
   "metadata": {},
   "outputs": [],
   "source": [
    "x_test = X[891:1309, 0:]"
   ]
  },
  {
   "cell_type": "code",
   "execution_count": 18,
   "metadata": {},
   "outputs": [
    {
     "name": "stdout",
     "output_type": "stream",
     "text": [
      "418/418 [==============================] - 0s 250us/step\n"
     ]
    }
   ],
   "source": [
    "result = model.predict_classes(x_test,batch_size = 50 , verbose=1)\n",
    "df=pd.DataFrame({ 'PassengerId': range(892, 1310), #[x for x in range(892,1310)],\n",
    "                   'Survived': result })\n",
    "df.to_csv('/root/Downloads/Titannic/result.csv',index=False)"
   ]
  },
  {
   "cell_type": "code",
   "execution_count": null,
   "metadata": {},
   "outputs": [],
   "source": []
  }
 ],
 "metadata": {
  "kernelspec": {
   "display_name": "Python 2",
   "language": "python",
   "name": "python2"
  },
  "language_info": {
   "codemirror_mode": {
    "name": "ipython",
    "version": 2
   },
   "file_extension": ".py",
   "mimetype": "text/x-python",
   "name": "python",
   "nbconvert_exporter": "python",
   "pygments_lexer": "ipython2",
   "version": "2.7.12"
  }
 },
 "nbformat": 4,
 "nbformat_minor": 2
}
